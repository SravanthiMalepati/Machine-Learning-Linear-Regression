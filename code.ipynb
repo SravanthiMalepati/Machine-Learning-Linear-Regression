{
 "cells": [
  {
   "cell_type": "markdown",
   "metadata": {},
   "source": [
    "10 counties:\n",
    "Canada \n",
    "China \n",
    "France\n",
    "Germany \n",
    "Italy \n",
    "Japan \n",
    "Netherlands\n",
    "Singapore \n",
    "South Africa\n",
    "Spain "
   ]
  },
  {
   "cell_type": "code",
   "execution_count": 55,
   "metadata": {},
   "outputs": [],
   "source": [
    "import pandas as pd\n",
    "from sklearn.model_selection import train_test_split\n",
    "from sklearn.linear_model import LinearRegression\n",
    "from sklearn.metrics import r2_score"
   ]
  },
  {
   "cell_type": "markdown",
   "metadata": {},
   "source": [
    "1)The number of hospital beds per 1,000 people in the most recent reported year is in column 1.i.e.,age\n",
    "\n",
    "This data is available in https://data.worldbank.org/indicator/SH.MED.BEDS.ZS\n",
    "\n",
    "2)Percentage of persons over the age of 65 in the population is in column 2.i.e.,beds\n",
    "\n",
    "This data is available in https://en.wikipedia.org/wiki/List_of_countries_by_age_structure \n",
    "\n",
    "3)The response variable for each country will be the number of COVID-19 deaths per 100K population is in column 3.i.e.,mortality_data\n",
    "\n",
    "This information can be found at https://coronavirus.jhu.edu/data/mortality"
   ]
  },
  {
   "cell_type": "markdown",
   "metadata": {},
   "source": [
    "Using pandas to read the .csv file as input and printing the input "
   ]
  },
  {
   "cell_type": "code",
   "execution_count": 56,
   "metadata": {},
   "outputs": [],
   "source": [
    "data = pd.read_csv(\"hw_3.csv\");"
   ]
  },
  {
   "cell_type": "code",
   "execution_count": 57,
   "metadata": {},
   "outputs": [
    {
     "data": {
      "text/html": [
       "<div>\n",
       "<style scoped>\n",
       "    .dataframe tbody tr th:only-of-type {\n",
       "        vertical-align: middle;\n",
       "    }\n",
       "\n",
       "    .dataframe tbody tr th {\n",
       "        vertical-align: top;\n",
       "    }\n",
       "\n",
       "    .dataframe thead th {\n",
       "        text-align: right;\n",
       "    }\n",
       "</style>\n",
       "<table border=\"1\" class=\"dataframe\">\n",
       "  <thead>\n",
       "    <tr style=\"text-align: right;\">\n",
       "      <th></th>\n",
       "      <th>beds</th>\n",
       "      <th>age</th>\n",
       "      <th>mortality_rate</th>\n",
       "    </tr>\n",
       "  </thead>\n",
       "  <tbody>\n",
       "    <tr>\n",
       "      <td>0</td>\n",
       "      <td>25.20</td>\n",
       "      <td>17.0</td>\n",
       "      <td>26.90</td>\n",
       "    </tr>\n",
       "    <tr>\n",
       "      <td>1</td>\n",
       "      <td>43.10</td>\n",
       "      <td>10.6</td>\n",
       "      <td>0.34</td>\n",
       "    </tr>\n",
       "    <tr>\n",
       "      <td>2</td>\n",
       "      <td>59.10</td>\n",
       "      <td>19.7</td>\n",
       "      <td>51.56</td>\n",
       "    </tr>\n",
       "    <tr>\n",
       "      <td>3</td>\n",
       "      <td>80.00</td>\n",
       "      <td>21.5</td>\n",
       "      <td>12.10</td>\n",
       "    </tr>\n",
       "    <tr>\n",
       "      <td>4</td>\n",
       "      <td>31.40</td>\n",
       "      <td>23.0</td>\n",
       "      <td>61.57</td>\n",
       "    </tr>\n",
       "    <tr>\n",
       "      <td>5</td>\n",
       "      <td>129.80</td>\n",
       "      <td>27.0</td>\n",
       "      <td>1.35</td>\n",
       "    </tr>\n",
       "    <tr>\n",
       "      <td>6</td>\n",
       "      <td>31.70</td>\n",
       "      <td>18.8</td>\n",
       "      <td>41.09</td>\n",
       "    </tr>\n",
       "    <tr>\n",
       "      <td>7</td>\n",
       "      <td>24.86</td>\n",
       "      <td>12.9</td>\n",
       "      <td>0.50</td>\n",
       "    </tr>\n",
       "    <tr>\n",
       "      <td>8</td>\n",
       "      <td>23.00</td>\n",
       "      <td>5.3</td>\n",
       "      <td>32.79</td>\n",
       "    </tr>\n",
       "    <tr>\n",
       "      <td>9</td>\n",
       "      <td>29.70</td>\n",
       "      <td>19.4</td>\n",
       "      <td>74.38</td>\n",
       "    </tr>\n",
       "  </tbody>\n",
       "</table>\n",
       "</div>"
      ],
      "text/plain": [
       "     beds  age   mortality_rate\n",
       "0   25.20  17.0           26.90\n",
       "1   43.10  10.6            0.34\n",
       "2   59.10  19.7           51.56\n",
       "3   80.00  21.5           12.10\n",
       "4   31.40  23.0           61.57\n",
       "5  129.80  27.0            1.35\n",
       "6   31.70  18.8           41.09\n",
       "7   24.86  12.9            0.50\n",
       "8   23.00   5.3           32.79\n",
       "9   29.70  19.4           74.38"
      ]
     },
     "execution_count": 57,
     "metadata": {},
     "output_type": "execute_result"
    }
   ],
   "source": [
    "df = pd.DataFrame(data)\n",
    "df"
   ]
  },
  {
   "cell_type": "markdown",
   "metadata": {},
   "source": [
    "Training the model using the above data for 10 different countries."
   ]
  },
  {
   "cell_type": "code",
   "execution_count": 85,
   "metadata": {},
   "outputs": [],
   "source": [
    "X=df.iloc[:,:-1].values  \n",
    "y=df.iloc[:,-1:].values  \n",
    "\n",
    "X_train, X_test, y_train, y_test = train_test_split(X, y, test_size=0.30, random_state=1)"
   ]
  },
  {
   "cell_type": "code",
   "execution_count": 86,
   "metadata": {},
   "outputs": [
    {
     "data": {
      "text/plain": [
       "array([[ 31.4 ,  23.  ],\n",
       "       [ 25.2 ,  17.  ],\n",
       "       [ 80.  ,  21.5 ],\n",
       "       [ 43.1 ,  10.6 ],\n",
       "       [ 24.86,  12.9 ],\n",
       "       [ 23.  ,   5.3 ],\n",
       "       [129.8 ,  27.  ]])"
      ]
     },
     "execution_count": 86,
     "metadata": {},
     "output_type": "execute_result"
    }
   ],
   "source": [
    "X_train #output of trained data "
   ]
  },
  {
   "cell_type": "code",
   "execution_count": 87,
   "metadata": {},
   "outputs": [
    {
     "name": "stdout",
     "output_type": "stream",
     "text": [
      "[[59.1 19.7]\n",
      " [29.7 19.4]\n",
      " [31.7 18.8]]\n",
      "[[51.56]\n",
      " [74.38]\n",
      " [41.09]]\n"
     ]
    }
   ],
   "source": [
    "print(X_test) #output of testing data \n",
    "print(y_test)"
   ]
  },
  {
   "cell_type": "markdown",
   "metadata": {},
   "source": [
    "Using Linear Regression functions from sklearn package that is available at https://scikit-learn.org/stable/modules/generated/sklearn.linear_model.LinearRegression.html"
   ]
  },
  {
   "cell_type": "code",
   "execution_count": 88,
   "metadata": {},
   "outputs": [
    {
     "data": {
      "text/plain": [
       "LinearRegression(copy_X=True, fit_intercept=True, n_jobs=None, normalize=False)"
      ]
     },
     "execution_count": 88,
     "metadata": {},
     "output_type": "execute_result"
    }
   ],
   "source": [
    "regressor = LinearRegression()\n",
    "regressor.fit(X_train, y_train)"
   ]
  },
  {
   "cell_type": "code",
   "execution_count": 89,
   "metadata": {},
   "outputs": [
    {
     "data": {
      "text/plain": [
       "0.4785483870362931"
      ]
     },
     "execution_count": 89,
     "metadata": {},
     "output_type": "execute_result"
    }
   ],
   "source": [
    "r_sq = regressor.score(X_train, y_train)\n",
    "r_sq"
   ]
  },
  {
   "cell_type": "code",
   "execution_count": 90,
   "metadata": {},
   "outputs": [
    {
     "name": "stdout",
     "output_type": "stream",
     "text": [
      "[[21.5623426 ]\n",
      " [36.98022739]\n",
      " [34.53932679]]\n"
     ]
    }
   ],
   "source": [
    "ypred = regressor.predict(X_test)\n",
    "print(ypred)\n",
    "#pred_score = regressor.score(ypred, y_test)"
   ]
  },
  {
   "cell_type": "code",
   "execution_count": 91,
   "metadata": {},
   "outputs": [
    {
     "name": "stdout",
     "output_type": "stream",
     "text": [
      "[[51.56]\n",
      " [74.38]\n",
      " [41.09]] \n",
      " [[21.5623426 ]\n",
      " [36.98022739]\n",
      " [34.53932679]]\n"
     ]
    }
   ],
   "source": [
    "print(y_test,\"\\n\",ypred)"
   ]
  },
  {
   "cell_type": "markdown",
   "metadata": {},
   "source": [
    "Applying the trained data to Predict number of deaths per 100k persons in USA with the data(age and available number of beds per 1000 people)."
   ]
  },
  {
   "cell_type": "code",
   "execution_count": 92,
   "metadata": {},
   "outputs": [],
   "source": [
    "import numpy as np\n",
    "usa = np.array([[2.9, 15.4]])\n",
    "usa_pred = regressor.predict(usa)"
   ]
  },
  {
   "cell_type": "code",
   "execution_count": 93,
   "metadata": {},
   "outputs": [
    {
     "name": "stdout",
     "output_type": "stream",
     "text": [
      "Mortality rate for USA [[42.67307807]]\n"
     ]
    }
   ],
   "source": [
    "print(\"Mortality rate for USA\",usa_pred)"
   ]
  }
 ],
 "metadata": {
  "kernelspec": {
   "display_name": "Python 3",
   "language": "python",
   "name": "python3"
  },
  "language_info": {
   "codemirror_mode": {
    "name": "ipython",
    "version": 3
   },
   "file_extension": ".py",
   "mimetype": "text/x-python",
   "name": "python",
   "nbconvert_exporter": "python",
   "pygments_lexer": "ipython3",
   "version": "3.7.4"
  }
 },
 "nbformat": 4,
 "nbformat_minor": 2
}
